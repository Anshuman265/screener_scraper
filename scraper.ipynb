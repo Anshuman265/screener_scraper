{
 "cells": [
  {
   "cell_type": "code",
   "execution_count": 7,
   "metadata": {},
   "outputs": [
    {
     "name": "stdout",
     "output_type": "stream",
     "text": [
      "Title of the webpage: \n",
      "  Stock Screener and fundamental analysis tool for Indian stocks\n",
      " - Screener\n",
      "/\n",
      "/explore/\n",
      "/register/?\n",
      "/\n",
      "/\n",
      "/explore/\n",
      "/screen/new/\n",
      "/hs/\n",
      "/people/\n",
      "/announcements/\n",
      "/premium/\n",
      "/login/?\n",
      "/register/?\n",
      "/company/504918/\n",
      "/company/531201/\n",
      "/company/KOVAI/\n",
      "/company/524774/\n",
      "/company/PERMAGNET/\n",
      "/company/500333/consolidated/\n",
      "/company/520073/\n",
      "/company/ROSSELLIND/\n",
      "/company/513097/\n",
      "/guides/terms/\n",
      "/guides/privacy/\n",
      "/premium/\n",
      "/docs/changelog/\n",
      "https://bit.ly/learnscreener\n",
      "/guides/about-us/\n",
      "/support/\n",
      "/guides/terms/\n",
      "/guides/privacy/\n"
     ]
    }
   ],
   "source": [
    "import requests\n",
    "from bs4 import BeautifulSoup\n",
    "\n",
    "# URL of the page you want to scrape\n",
    "url = 'https://www.screener.in/'\n",
    "\n",
    "# Send a GET request to the URL\n",
    "response = requests.get(url)\n",
    "\n",
    "# Check if the request was successful (status code 200)\n",
    "if response.status_code == 200:\n",
    "    # Parse the HTML content\n",
    "    soup = BeautifulSoup(response.content, 'html.parser')\n",
    "    \n",
    "    # Example: Extracting the title of the webpage\n",
    "    title = soup.title.text\n",
    "    print(f\"Title of the webpage: {title}\")\n",
    "    \n",
    "    # Example: Find all <a> tags (links) in the webpage\n",
    "    links = soup.find_all('a')\n",
    "    for link in links:\n",
    "        print(link.get('href'))\n",
    "else:\n",
    "    print(f\"Failed to retrieve page: {response.status_code}\")\n"
   ]
  },
  {
   "cell_type": "code",
   "execution_count": 6,
   "metadata": {},
   "outputs": [
    {
     "name": "stdout",
     "output_type": "stream",
     "text": [
      "Collecting bs4\n",
      "  Downloading bs4-0.0.2-py2.py3-none-any.whl.metadata (411 bytes)\n",
      "Collecting beautifulsoup4 (from bs4)\n",
      "  Downloading beautifulsoup4-4.12.3-py3-none-any.whl.metadata (3.8 kB)\n",
      "Collecting soupsieve>1.2 (from beautifulsoup4->bs4)\n",
      "  Downloading soupsieve-2.5-py3-none-any.whl.metadata (4.7 kB)\n",
      "Downloading bs4-0.0.2-py2.py3-none-any.whl (1.2 kB)\n",
      "Downloading beautifulsoup4-4.12.3-py3-none-any.whl (147 kB)\n",
      "   ---------------------------------------- 0.0/147.9 kB ? eta -:--:--\n",
      "   -- ------------------------------------- 10.2/147.9 kB ? eta -:--:--\n",
      "   ---------- ---------------------------- 41.0/147.9 kB 653.6 kB/s eta 0:00:01\n",
      "   ---------------------------------------- 147.9/147.9 kB 1.5 MB/s eta 0:00:00\n",
      "Downloading soupsieve-2.5-py3-none-any.whl (36 kB)\n",
      "Installing collected packages: soupsieve, beautifulsoup4, bs4\n",
      "Successfully installed beautifulsoup4-4.12.3 bs4-0.0.2 soupsieve-2.5\n"
     ]
    },
    {
     "name": "stderr",
     "output_type": "stream",
     "text": [
      "\n",
      "[notice] A new release of pip is available: 24.0 -> 24.1.1\n",
      "[notice] To update, run: python.exe -m pip install --upgrade pip\n"
     ]
    }
   ],
   "source": [
    "!pip install bs4"
   ]
  },
  {
   "cell_type": "code",
   "execution_count": null,
   "metadata": {},
   "outputs": [],
   "source": []
  }
 ],
 "metadata": {
  "kernelspec": {
   "display_name": "Python 3",
   "language": "python",
   "name": "python3"
  },
  "language_info": {
   "codemirror_mode": {
    "name": "ipython",
    "version": 3
   },
   "file_extension": ".py",
   "mimetype": "text/x-python",
   "name": "python",
   "nbconvert_exporter": "python",
   "pygments_lexer": "ipython3",
   "version": "3.12.4"
  }
 },
 "nbformat": 4,
 "nbformat_minor": 2
}
